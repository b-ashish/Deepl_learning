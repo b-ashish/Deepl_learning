{
 "cells": [
  {
   "cell_type": "code",
   "execution_count": 5,
   "id": "e38822a8",
   "metadata": {},
   "outputs": [],
   "source": [
    "import numpy as np\n",
    "from glob import glob\n",
    "from sklearn.model_selection import train_test_split\n",
    "from tensorflow.keras.layers import Input,Dense,Flatten\n",
    "from tensorflow.keras.models import Model,Sequential\n",
    "from tensorflow.keras.applications.inception_v3 import InceptionV3,preprocess_input\n",
    "from tensorflow.keras.preprocessing import image"
   ]
  },
  {
   "cell_type": "code",
   "execution_count": null,
   "id": "3c5cc213",
   "metadata": {},
   "outputs": [],
   "source": [
    "train_path = (r\"BIRDS/train\")\n",
    "test_path =  (r\"BIRDS/test\")"
   ]
  },
  {
   "cell_type": "code",
   "execution_count": null,
   "id": "69ee4fc4",
   "metadata": {},
   "outputs": [],
   "source": [
    "img_size = [256,256]"
   ]
  },
  {
   "cell_type": "code",
   "execution_count": null,
   "id": "93a4138a",
   "metadata": {},
   "outputs": [],
   "source": [
    "incpt = InceptionV3 (input_shape= img_size+[3], weights='imagenet', include_top= False)"
   ]
  },
  {
   "cell_type": "code",
   "execution_count": null,
   "id": "4cd9fdbc",
   "metadata": {},
   "outputs": [],
   "source": [
    "for layers in incpt.layers:\n",
    "    layers.trainable = False"
   ]
  },
  {
   "cell_type": "code",
   "execution_count": null,
   "id": "a3622b0d",
   "metadata": {},
   "outputs": [],
   "source": [
    "folder = glob(\"BIRDS/train*\")"
   ]
  },
  {
   "cell_type": "code",
   "execution_count": null,
   "id": "358804e1",
   "metadata": {},
   "outputs": [],
   "source": [
    "x = Flatten()(incpt.output)"
   ]
  },
  {
   "cell_type": "code",
   "execution_count": null,
   "id": "89a5597e",
   "metadata": {},
   "outputs": [],
   "source": [
    "prediction = Dense(len(folder),activation = 'softmax')(x)"
   ]
  },
  {
   "cell_type": "code",
   "execution_count": null,
   "id": "d6c3b101",
   "metadata": {},
   "outputs": [],
   "source": [
    "model = Model (incpt.input,outputs= prediction)\n",
    "model.summary()"
   ]
  },
  {
   "cell_type": "code",
   "execution_count": null,
   "id": "68a1e32e",
   "metadata": {},
   "outputs": [],
   "source": [
    "model.compile(loss='categorical_crossentropy',optimizer ='adam', metrics = ['accuracy'])"
   ]
  },
  {
   "cell_type": "code",
   "execution_count": null,
   "id": "002c1442",
   "metadata": {},
   "outputs": [],
   "source": [
    "from tensorflow.keras.preprocessing.image import ImageDataGenerator"
   ]
  },
  {
   "cell_type": "code",
   "execution_count": null,
   "id": "849340d3",
   "metadata": {},
   "outputs": [],
   "source": [
    "train_datagen = ImageDataGenerator(rescale = 1./255, shear_range = 0.2,zoom_range = 0.2, horizontal_flip=True)\n",
    "test_datagen = ImageDataGenerator(rescale=1./255)"
   ]
  },
  {
   "cell_type": "code",
   "execution_count": null,
   "id": "d687579a",
   "metadata": {
    "scrolled": true
   },
   "outputs": [],
   "source": [
    "train_set = train_datagen.flow_from_directory(train_path,target_size=(256,256),batch_size=32, class_mode = 'categorical')\n",
    "test_set = test_datagen.flow_from_directory(test_path,target_size=(256,256),batch_size=32, class_mode = 'categorical')"
   ]
  },
  {
   "cell_type": "code",
   "execution_count": null,
   "id": "e1b0bed8",
   "metadata": {},
   "outputs": [],
   "source": [
    "classes = train_set.class_indices\n",
    "classes"
   ]
  },
  {
   "cell_type": "code",
   "execution_count": null,
   "id": "f480da67",
   "metadata": {},
   "outputs": [],
   "source": [
    "import json\n",
    "with open (\"classes.json\",'w') as f:\n",
    "    json.dump(classes,f)"
   ]
  },
  {
   "cell_type": "code",
   "execution_count": null,
   "id": "cf0d5d47",
   "metadata": {},
   "outputs": [],
   "source": [
    "fit = model.fit(train_set, validation_data= test_set, epochs=10, steps_per_epoch=len(train_set),\n",
    "                validation_steps=len(test_set))"
   ]
  },
  {
   "cell_type": "code",
   "execution_count": null,
   "id": "3fc963c3",
   "metadata": {},
   "outputs": [],
   "source": [
    "model.save(\"model.h5\")"
   ]
  }
 ],
 "metadata": {
  "kernelspec": {
   "display_name": "Python 3 (ipykernel)",
   "language": "python",
   "name": "python3"
  },
  "language_info": {
   "codemirror_mode": {
    "name": "ipython",
    "version": 3
   },
   "file_extension": ".py",
   "mimetype": "text/x-python",
   "name": "python",
   "nbconvert_exporter": "python",
   "pygments_lexer": "ipython3",
   "version": "3.9.12"
  }
 },
 "nbformat": 4,
 "nbformat_minor": 5
}
